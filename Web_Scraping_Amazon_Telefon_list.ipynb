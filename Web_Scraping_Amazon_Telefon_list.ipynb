{
 "cells": [
  {
   "cell_type": "code",
   "execution_count": 1,
   "id": "57345ab7",
   "metadata": {},
   "outputs": [],
   "source": [
    "import os\n",
    "import re\n",
    "import time\n",
    "import requests\n",
    "import pandas as pd\n",
    "import numpy as np\n",
    "from bs4 import BeautifulSoup as bts\n",
    "from selenium import webdriver\n",
    "import warnings\n",
    "warnings.filterwarnings(action='ignore')\n",
    "\n",
    "# Bilgisayarımızda chromedriver.exe dosyasını kaydettiğimiz dizin\n",
    "chromedriver = \"/Users/niluferceylan/Desktop/chrome-for-testing-main\"\n",
    "os.environ[\"webdriver.chrome.driver\"] = chromedriver"
   ]
  },
  {
   "cell_type": "code",
   "execution_count": 3,
   "id": "4b76ff51-3d36-4c62-9719-c03e27d9812e",
   "metadata": {},
   "outputs": [
    {
     "data": {
      "text/plain": [
       "'https://www.amazon.com.tr/s?i=electronics&rh=n%3A12466496031%2Cn%3A13709880031%2Cn%3A13709907031%2Cp_123%3A110955%7C32374%7C338933%7C46655%7C559198%7C584419&s=popularity-rank&dc&fs=true&ds=v1%3ABgDk1S0Q7ALazOmxyqPqm%2FCFLuixvXov5KBw09m%2BJoo&qid=1723377548&rnid=13709880031&ref=sr_nr_n_3'"
      ]
     },
     "execution_count": 3,
     "metadata": {},
     "output_type": "execute_result"
    }
   ],
   "source": [
    "options = webdriver.ChromeOptions()\n",
    "options.add_argument(\"--incognito\")\n",
    "options.add_argument(\"--start-maximized\")\n",
    "options.page_load_strategy = \"normal\"\n",
    "driver = webdriver.Chrome(options)\n",
    "driver.get( \"https://www.amazon.com.tr/s?i=electronics&rh=n%3A12466496031%2Cn%3A13709880031%2Cn%3A13709907031%2Cp_123%3A110955%7C32374%7C338933%7C46655%7C559198%7C584419&s=popularity-rank&dc&fs=true&ds=v1%3ABgDk1S0Q7ALazOmxyqPqm%2FCFLuixvXov5KBw09m%2BJoo&qid=1723377548&rnid=13709880031&ref=sr_nr_n_3\")\n",
    "driver.current_url"
   ]
  },
  {
   "cell_type": "code",
   "execution_count": null,
   "id": "5c7e7596",
   "metadata": {
    "scrolled": true
   },
   "outputs": [],
   "source": [
    "soup = bts(driver.page_source, \"html.parser\")\n",
    "soup"
   ]
  },
  {
   "cell_type": "code",
   "execution_count": null,
   "id": "c7fed466-626e-4ec8-bb74-585120fd55eb",
   "metadata": {},
   "outputs": [],
   "source": [
    "'https://www.amazon.com.tr' + soup.find('a', {'class':'a-link-normal s-underline-text s-underline-link-text s-link-style a-text-normal'}).get('href')"
   ]
  },
  {
   "cell_type": "code",
   "execution_count": null,
   "id": "4c9363c4-5529-4148-a6c6-f3f42a54079c",
   "metadata": {
    "scrolled": true
   },
   "outputs": [],
   "source": [
    "soup.findAll('h2')"
   ]
  },
  {
   "cell_type": "code",
   "execution_count": null,
   "id": "b33378a9-38c1-498b-8e7c-f32abe95fc75",
   "metadata": {},
   "outputs": [],
   "source": [
    "from selenium.webdriver.common.by import By\n",
    "from selenium.webdriver.support.ui import WebDriverWait\n",
    "from selenium.webdriver.support import expected_conditions as ec\n",
    "from selenium.webdriver import ActionChains"
   ]
  },
  {
   "cell_type": "code",
   "execution_count": null,
   "id": "76e72cf6-0ff4-4871-a5e1-b8314c4381ba",
   "metadata": {
    "scrolled": true
   },
   "outputs": [],
   "source": [
    "phone_link = []\n",
    "phone_bilgi = []\n",
    "for page in range(5):   \n",
    "    for link in soup.findAll('a', {'class':'a-link-normal s-no-outline'}):\n",
    "        phone_link.append('https://www.amazon.com.tr' + link.get('href'))\n",
    "    for bilgi in soup.findAll('h2'):\n",
    "        phone_bilgi.append(bilgi)\n",
    "    \n",
    "    more_button2 = driver.find_element(By.XPATH, '//a[@class =\"s-pagination-item s-pagination-next s-pagination-button s-pagination-separator\"]')\n",
    "    ActionChains(driver).scroll_to_element(more_button2).perform()\n",
    "    more_button2.click()\n",
    "    wait = WebDriverWait(driver, timeout=5)\n",
    "    selected_element = (By.XPATH, '//a[@class =\"s-pagination-item s-pagination-next s-pagination-button s-pagination-separator\"]')\n",
    "    wait_time = wait.until(ec.visibility_of_element_located(selected_element))  "
   ]
  },
  {
   "cell_type": "markdown",
   "id": "1512b5f0-018c-4b20-a929-908997415656",
   "metadata": {},
   "source": [
    "**NOT:** Driver'ın sayfanın altına inip **50 more** butonunu bulması için gereken bekleme süresine `time.sleep()` fonksiyonu ile de yapabilirsiniz."
   ]
  },
  {
   "cell_type": "code",
   "execution_count": null,
   "id": "25356d0f-91ef-4251-bdf7-204fa607df02",
   "metadata": {
    "scrolled": true
   },
   "outputs": [],
   "source": [
    "phone_link\n",
    "len(phone_bilgi)"
   ]
  },
  {
   "cell_type": "code",
   "execution_count": null,
   "id": "3308b96f-c8bb-47b6-a87e-24b00739b609",
   "metadata": {
    "scrolled": true
   },
   "outputs": [],
   "source": [
    "phone_link"
   ]
  },
  {
   "cell_type": "code",
   "execution_count": null,
   "id": "da272ea0-f463-46ee-a351-efb43913d134",
   "metadata": {
    "scrolled": true
   },
   "outputs": [],
   "source": [
    "soup = bts(driver.page_source, \"html.parser\")\n",
    "soup.findAll('h2')"
   ]
  },
  {
   "cell_type": "code",
   "execution_count": null,
   "id": "9ba77f23-505e-4352-81b6-51288c465447",
   "metadata": {},
   "outputs": [],
   "source": [
    "def getAndParseURL(url):\n",
    "    result = requests.get(url, headers={\"User-Agent\":\"Chrome/125.0.6422.76\"}) # Safari/537.36. Chrome/103.0.0.0\n",
    "    soup = bts(result.text, \"html.parser\")\n",
    "    return soup"
   ]
  },
  {
   "cell_type": "code",
   "execution_count": null,
   "id": "4c4cbced-fcd5-470d-8452-34923857d637",
   "metadata": {
    "scrolled": true
   },
   "outputs": [],
   "source": [
    "html = getAndParseURL('https://www.amazon.com.tr/Samsung-Galaxy-Telefonu-Türkiye-Garantili/dp/B0CYH527VN/ref=sr_1_1?dib=eyJ2IjoiMSJ9.9Ly9nJufVz_cWnXXBoVFdu8vtq_CRpf4Q1ZqYvAyjP5q7sfxc8B5RhL2whn01Xa9WFI-izZZIvu1rCzBqy6tnKOhIY2FhaT101KFhTo91D_ItyoBAA2IwGQiIt5cHE2-0_768W01e5JaGf7f0yiJH5r2RFLuNJXfP1IqhmSXJvZPn21371_cc8t42TO5RA3A_I_g7PrYib6r18Sm2eB1fSP55iJLGiypj8PZ8RjnnZzjFc1xnHoANiQK5a6GdlGAU2G8sxhiKqvpPyB6N3q8ckU1sAV2V0uarD1Ws-ObGIA._0uwsGGsowRai2L_bvSqc8vgrFZ4stCZgsIgwO6C758&dib_tag=se&qid=1723381801&refinements=p_123%3A110955%7C32374%7C338933%7C46655%7C559198%7C584419&rnid=13709880031&s=electronics&sr=1-1&th=1')\n",
    "html"
   ]
  },
  {
   "cell_type": "raw",
   "id": "a5305498-fb17-4f7c-b3df-efb1c9e8ddee",
   "metadata": {},
   "source": [
    "Product title"
   ]
  },
  {
   "cell_type": "code",
   "execution_count": null,
   "id": "5125c6ed-0b0b-49cb-887d-9ac2d0d26d19",
   "metadata": {},
   "outputs": [],
   "source": [
    "html.find('span', {'class':'a-size-large product-title-word-break'}).text.strip()"
   ]
  },
  {
   "cell_type": "code",
   "execution_count": null,
   "id": "49d3cfdf-2018-480d-8556-fc87d49a7bf7",
   "metadata": {},
   "outputs": [],
   "source": []
  },
  {
   "cell_type": "code",
   "execution_count": null,
   "id": "7480ed40-a147-414a-aa15-07de93be37e4",
   "metadata": {},
   "outputs": [],
   "source": [
    "Fiyat"
   ]
  },
  {
   "cell_type": "code",
   "execution_count": null,
   "id": "efe5d9f0-bb45-465d-a496-f25e632b670d",
   "metadata": {},
   "outputs": [],
   "source": [
    "intprice = html.find('span', {'class':'a-price-whole'}).text\n",
    "decimalprice = html.find('span', {'class':'a-price-fraction'}).text\n",
    "print(intprice + decimalprice)"
   ]
  },
  {
   "cell_type": "markdown",
   "id": "d243b65f-b534-4c7d-aa57-f91888bed07f",
   "metadata": {},
   "source": [
    "### Marka"
   ]
  },
  {
   "cell_type": "code",
   "execution_count": null,
   "id": "67132e57-7d2e-4ba5-ae3b-fff1cd445ee7",
   "metadata": {},
   "outputs": [],
   "source": [
    "html.find('span', {'class':'a-size-base po-break-word'}).text"
   ]
  },
  {
   "cell_type": "code",
   "execution_count": null,
   "id": "f8cd280d-3641-400a-a218-46c4fda0f0e1",
   "metadata": {},
   "outputs": [],
   "source": [
    "işletim sistemi"
   ]
  },
  {
   "cell_type": "code",
   "execution_count": null,
   "id": "6e74446c-9575-4b2f-ab9e-751dfd8a495c",
   "metadata": {},
   "outputs": [],
   "source": [
    "html.find('tr', {'class':'a-spacing-small po-operating_system'}).findAll('td')[1].text.strip()"
   ]
  },
  {
   "cell_type": "code",
   "execution_count": null,
   "id": "bfdf94bd-b290-41ab-bd56-1058166c0380",
   "metadata": {},
   "outputs": [],
   "source": [
    "Bellek Deplolama Kapasitesi"
   ]
  },
  {
   "cell_type": "code",
   "execution_count": null,
   "id": "c589882d-5bac-4410-9e23-0c491cb4a084",
   "metadata": {},
   "outputs": [],
   "source": [
    "html.find('tr', {'class':'a-spacing-small po-memory_storage_capacity'}).findAll('td')[1].text.strip().split(' ')[0]"
   ]
  },
  {
   "cell_type": "code",
   "execution_count": null,
   "id": "b4ed66a1-1834-475e-874d-ff9b75f61a34",
   "metadata": {},
   "outputs": [],
   "source": [
    "Ekran Boyutu"
   ]
  },
  {
   "cell_type": "code",
   "execution_count": null,
   "id": "52ad4bbd-cab9-485d-abbd-cb4c32001206",
   "metadata": {},
   "outputs": [],
   "source": [
    "html.find('tr', {'class':'a-spacing-small po-display.size'}).findAll('td')[1].text.strip().split(' ')[0]"
   ]
  },
  {
   "cell_type": "code",
   "execution_count": null,
   "id": "9ad47604-b4f7-4cf6-8bf9-77d161b5dc40",
   "metadata": {},
   "outputs": [],
   "source": [
    "Model Adı"
   ]
  },
  {
   "cell_type": "code",
   "execution_count": null,
   "id": "6f0464c8-4916-40d4-800f-4834d0dee048",
   "metadata": {},
   "outputs": [],
   "source": [
    "html.find('tr', {'class':'a-spacing-small po-model_name'}).findAll('td')[1].text"
   ]
  },
  {
   "cell_type": "code",
   "execution_count": null,
   "id": "46625874-77ae-408e-b846-02b99d327334",
   "metadata": {},
   "outputs": [],
   "source": [
    "Puan"
   ]
  },
  {
   "cell_type": "code",
   "execution_count": null,
   "id": "aac4039d-1328-4c83-8fd4-ab7323d3042f",
   "metadata": {},
   "outputs": [],
   "source": [
    "html.find('a', {'class':'a-popover-trigger a-declarative'}).findAll('span')[0].text"
   ]
  },
  {
   "cell_type": "code",
   "execution_count": null,
   "id": "4539b6ba-8244-4fb8-ada0-caed31a98899",
   "metadata": {},
   "outputs": [],
   "source": [
    "Değerlendirme Sayısı"
   ]
  },
  {
   "cell_type": "code",
   "execution_count": null,
   "id": "5a44584f-3a0b-4907-9e7d-7352e6693e33",
   "metadata": {},
   "outputs": [],
   "source": [
    "html.find('span', {'id':'acrCustomerReviewText'}).text.split(' ')[0]"
   ]
  },
  {
   "cell_type": "markdown",
   "id": "92795def-233e-4e5c-a50b-d264f20ddac4",
   "metadata": {},
   "source": [
    "Veri setimizi oluşturalım."
   ]
  },
  {
   "cell_type": "code",
   "execution_count": null,
   "id": "537c9213-cd3f-4269-93c3-9331b4f9c568",
   "metadata": {},
   "outputs": [],
   "source": [
    "results = []\n",
    "\n",
    "for index, link in enumerate(phone_link):\n",
    "    html = getAndParseURL(link)\n",
    "\n",
    "    try:\n",
    "        product_title = html.find('span', {'class':'a-size-large product-title-word-break'}).text.strip()\n",
    "    except:\n",
    "        product_title = np.nan\n",
    "    try:\n",
    "        intprice = html.find('span', {'class':'a-price-whole'}).text\n",
    "        decimalprice = html.find('span', {'class':'a-price-fraction'}).text\n",
    "        price = intprice + decimalprice\n",
    "    except:\n",
    "        price = np.nan\n",
    "    try:\n",
    "        marka = html.find('span', {'class':'a-size-base po-break-word'}).text\n",
    "    except:\n",
    "        marka = np.nan\n",
    "    try:\n",
    "        isletim_sistemi = html.find('tr', {'class':'a-spacing-small po-operating_system'}).findAll('td')[1].text.strip()\n",
    "    except:\n",
    "        isletim_sistemi = np.nan\n",
    "    try:\n",
    "        bellek_depolama_kapasitesi = html.find('tr', {'class':'a-spacing-small po-memory_storage_capacity'}).findAll('td')[1].text.strip().split(' ')[0]\n",
    "    except:\n",
    "        bellek_depolama_kapasitesi = np.nan\n",
    "    try:\n",
    "        ekran_boyutu = html.find('tr', {'class':'a-spacing-small po-display.size'}).findAll('td')[1].text.strip().split(' ')[0]\n",
    "    except:\n",
    "        ekran_boyutu = np.nan\n",
    "    try:\n",
    "        model_adi = html.find('tr', {'class':'a-spacing-small po-model_name'}).findAll('td')[1].text\n",
    "    except:\n",
    "        model_adi = np.nan\n",
    "    try:\n",
    "        puan = html.find('a', {'class':'a-popover-trigger a-declarative'}).findAll('span')[0].text.strip()\n",
    "    except:\n",
    "        puan = np.nan\n",
    "    try:\n",
    "        degerlendirme_sayisi = html.find('span', {'id':'acrCustomerReviewText'}).text.split(' ')[0]\n",
    "    except:\n",
    "        degerlendirme_sayisi = np.nan\n",
    "\n",
    "\n",
    "    results.append([product_title, price, marka, isletim_sistemi, bellek_depolama_kapasitesi, ekran_boyutu, model_adi, puan,\n",
    "                    degerlendirme_sayisi])\n",
    "\n",
    "    print(f'{index+1}. {product_title} scraped!')"
   ]
  },
  {
   "cell_type": "code",
   "execution_count": null,
   "id": "4414aabf-b908-4884-8a4d-dfb9fe629e17",
   "metadata": {},
   "outputs": [],
   "source": []
  },
  {
   "cell_type": "code",
   "execution_count": null,
   "id": "62a702c9-43e2-4593-a97f-c4b3e6da0eed",
   "metadata": {},
   "outputs": [],
   "source": []
  },
  {
   "cell_type": "code",
   "execution_count": null,
   "id": "ddc82d2f-13fc-47d0-b220-27af74f884ed",
   "metadata": {},
   "outputs": [],
   "source": [
    "columns = ['product_title', 'price', 'marka', 'isletim_sistemi', 'bellek_depolama_kapasitesi', 'ekran_boyutu', 'model_adi', 'puan',\n",
    "                    'degerlendirme_sayisi']\n",
    "\n",
    "df = pd.DataFrame.from_records(results, columns=columns)"
   ]
  },
  {
   "cell_type": "code",
   "execution_count": null,
   "id": "99c86466-9cb7-43c8-be69-ba95199ba383",
   "metadata": {},
   "outputs": [],
   "source": []
  },
  {
   "cell_type": "code",
   "execution_count": null,
   "id": "9fa7f89d-88fe-4b24-8630-2680d27edb24",
   "metadata": {},
   "outputs": [],
   "source": [
    "df"
   ]
  },
  {
   "cell_type": "code",
   "execution_count": null,
   "id": "b3ac0a47-63db-4eb8-9752-e1e73434b558",
   "metadata": {},
   "outputs": [],
   "source": [
    "df.to_csv('phones_list.csv', index=False)"
   ]
  },
  {
   "cell_type": "code",
   "execution_count": null,
   "id": "4909972d-f979-47f9-9ea2-2c5101473578",
   "metadata": {},
   "outputs": [],
   "source": [
    "df.info()"
   ]
  },
  {
   "cell_type": "code",
   "execution_count": null,
   "id": "235b57c2-e256-4558-8b09-fd74ba3ed2fe",
   "metadata": {},
   "outputs": [],
   "source": []
  }
 ],
 "metadata": {
  "kernelspec": {
   "display_name": "Python 3 (ipykernel)",
   "language": "python",
   "name": "python3"
  },
  "language_info": {
   "codemirror_mode": {
    "name": "ipython",
    "version": 3
   },
   "file_extension": ".py",
   "mimetype": "text/x-python",
   "name": "python",
   "nbconvert_exporter": "python",
   "pygments_lexer": "ipython3",
   "version": "3.12.4"
  }
 },
 "nbformat": 4,
 "nbformat_minor": 5
}
